{
  "cells": [
    {
      "cell_type": "raw",
      "metadata": {},
      "source": [
        "---\n",
        "title: Earthdata Search and Discovery\n",
        "format:\n",
        "  html:\n",
        "    code-fold: true\n",
        "---"
      ],
      "id": "e987cdbe"
    },
    {
      "cell_type": "markdown",
      "metadata": {},
      "source": [
        "Running this tutorial assumes you have gone through [set-up](tutorials/setup.html).\n",
        "\n",
        "## Summary\n",
        "\n",
        "In this example we will use the `earthaccess` library to search for data collections from NASA Earthdata. `earthaccess` is a Python library that simplifies data discovery and access to NASA Earth science data by providing an abstraction layer for NASA’s [Common Metadata Repository (CMR) API](https://cmr.earthdata.nasa.gov/search/site/docs/search/api.html) Search API. The library makes searching for data more approachable by using a simpler notation instead of low level HTTP queries. `earthaccess` takes the trouble out of Earthdata Login **authentication**, makes **search** easier, and provides a stream-line way to download or stream search results into an `xarray` object.\n",
        "\n",
        "For more on `earthaccess` visit the [`earthaccess` GitHub](https://github.com/nsidc/earthaccess) page and/or the [`earthaccess` documentation](https://earthaccess.readthedocs.io/en/latest/) site. Be aware that `earthaccess` is under active development. \n",
        "\n",
        "## Prerequisites\n",
        "\n",
        "An Earthdata Login account is required to access data from NASA Earthdata. Please visit <https://urs.earthdata.nasa.gov> to register and manage your Earthdata Login account. This account is free to create and only takes a moment to set up.  \n",
        "\n",
        "\n",
        "## Learning Objectives\n",
        "\n",
        "1. How to authenticate with `earthaccess`\n",
        "2. How to use `earthaccess` to search for data using spatial and temporal filters\n",
        "3. How to explore and work with search results\n",
        "\n",
        "## Get Started\n",
        "\n",
        "### Import Required Packages  "
      ],
      "id": "e3f2b71a"
    },
    {
      "cell_type": "code",
      "metadata": {},
      "source": [
        "import earthaccess \n",
        "from pprint import pprint\n",
        "import xarray as xr\n",
        "import geopandas as gpd"
      ],
      "id": "3c6fce3d",
      "execution_count": null,
      "outputs": []
    },
    {
      "cell_type": "markdown",
      "metadata": {},
      "source": [
        "### Authentication for NASA Earthdata  \n",
        "\n",
        "We will start by authenticating using our Earthdata Login credentials. Authentication is not necessarily needed to search for publicaly available data collections in Earthdata, but is always need to download or access data from the NASA Earthdata archives. We can use `login` method from the `earthaccess` library here. This will create a authenticated session using our Earthdata Login credential. Our credentials can be passed along via **environmental variables** or by a **.netrc** file save in the home/user profile directory. If your credentials are not available in either location, we will be prompt to input our credentials and a **.netrc** will be created and saved for us.  "
      ],
      "id": "fd4a80b8"
    },
    {
      "cell_type": "code",
      "metadata": {},
      "source": [
        "auth = earthaccess.login()\n",
        "# are we authenticated?\n",
        "if not auth.authenticated:\n",
        "    # ask for credentials and persist them in a .netrc file\n",
        "    auth.login(strategy=\"interactive\", persist=True)"
      ],
      "id": "cf457c30",
      "execution_count": null,
      "outputs": []
    },
    {
      "cell_type": "markdown",
      "metadata": {},
      "source": [
        "### Search for data  \n",
        "\n",
        "There are multiple keywords we can use to discovery data from collections. The table below contains the `short_name`, `concept_id`, and `doi` for some collections we are interested in for other exercises. Each of these can be \n",
        "used to search for data or information related to the collection we are interested in.  \n",
        "\n",
        "| Shortname | Collection Concept ID | DOI |\n",
        "| --- | --- | --- |\n",
        "| GPM_3IMERGDF | C2723754864-GES_DISC | 10.5067/GPM/IMERGDF/DAY/07 |\n",
        "| MOD10C1 | C1646609808-NSIDC_ECS | 10.5067/MODIS/MOD10C1.061 |\n",
        "| SPL4SMGP | C2531308461-NSIDC_ECS | 10.5067/EVKPQZ4AFC4D | \n",
        "| SPL4SMAU | C2537927247-NSIDC_ECS | 10.5067/LWJ6TF5SZRG3 |\n",
        "\n",
        "But wait...You may be asking \"how can we find the `shortname`, `concept_id`, and `doi` for collections not in the table above?\". Let's take a quick detour.\n",
        "\n",
        "https://search.earthdata.nasa.gov/search?q=GPM_3IMERGDF\n",
        "\n",
        "#### Search by collection"
      ],
      "id": "58ee6bdb"
    },
    {
      "cell_type": "code",
      "metadata": {},
      "source": [
        "collection_id = 'C2723754864-GES_DISC'"
      ],
      "id": "76de2ce4",
      "execution_count": null,
      "outputs": []
    },
    {
      "cell_type": "code",
      "metadata": {},
      "source": [
        "results = earthaccess.search_data(\n",
        "    concept_id = collection_id,\n",
        "    cloud_hosted = True,\n",
        "    count = 10    # Restricting to 10 records returned\n",
        ")"
      ],
      "id": "a9702325",
      "execution_count": null,
      "outputs": []
    },
    {
      "cell_type": "markdown",
      "metadata": {},
      "source": [
        "In this example we used the `concept_id` parameter to search from our desired collection. However, there are multiple ways to specify the collection(s) we are interested in. Alternative parameters include:  \n",
        "\n",
        "- `doi` - request collection by digital object identifier (e.g., `doi` = '10.5067/GPM/IMERGDF/DAY/07')  \n",
        "- `short_name` - request collection by CMR shortname (e.g., `short_name` = 'GPM_3IMERGDF')  \n",
        "\n",
        "**NOTE:** Each Earthdata collect has a unique `concept_id` and `doi`. This is not the case with `short_name`. A **shortname** can be associated with multiple versions of a collection. If multiple versions of a collection are publicaly available, using the `short_name` parameter with return all versions available. It is advised to use the `version` parameter in conjunction with the `short_name` parameter with searching.\n",
        "\n",
        "We can refine our search by passing more parameters that describe the spatiotemporal domain of our use case. Here, we use the `temporal` parameter to request a date range and the `bounding_box` parameter to request granules that intersect with a bounding box.  \n",
        "\n",
        "For our bounding box, we are going to read in a GeoJSON file containing a single feature and extract the coordinate pairs for the southeast corner and the northwest corner (or lowerleft and upperright corners) of the bounding box around the feature.  "
      ],
      "id": "1032a370"
    },
    {
      "cell_type": "code",
      "metadata": {},
      "source": [
        "inGeojson = gpd.read_file('../../2023-Cloud-Workshop-AGU/data/sf_to_sierranvmt.geojson')"
      ],
      "id": "9674afb3",
      "execution_count": null,
      "outputs": []
    },
    {
      "cell_type": "code",
      "metadata": {},
      "source": [
        "xmin, ymin, xmax, ymax = inGeojson.total_bounds"
      ],
      "id": "1d1511d0",
      "execution_count": null,
      "outputs": []
    },
    {
      "cell_type": "markdown",
      "metadata": {},
      "source": [
        "We will assign our start date and end date to a variable named `date_range` and we'll assign the southeast and the northwest corner coordinates to a variable named `bbox` to be passed to our `earthaccess` search request.  "
      ],
      "id": "3d23ab29"
    },
    {
      "cell_type": "code",
      "metadata": {},
      "source": [
        "date_range = (\"2022-11-19\", \"2023-04-06\")\n",
        "#bbox = (-127.0761, 31.6444, -113.9039, 42.6310)\n",
        "bbox = (xmin, ymin, xmax, ymax)"
      ],
      "id": "7efa2f3c",
      "execution_count": null,
      "outputs": []
    },
    {
      "cell_type": "code",
      "metadata": {},
      "source": [
        "results = earthaccess.search_data(\n",
        "    concept_id = collection_id,\n",
        "    cloud_hosted = True,\n",
        "    temporal = date_range,\n",
        "    bounding_box = bbox,\n",
        ")"
      ],
      "id": "3a53d1c0",
      "execution_count": null,
      "outputs": []
    },
    {
      "cell_type": "markdown",
      "metadata": {},
      "source": [
        "- The `short_name` and `concept_id` search parameters can be used to request one or multiple collections per request, but the `doi` parameter can only request a single collection.  \n",
        "> `concept_ids` = ['C2723754864-GES_DISC', 'C1646609808-NSIDC_ECS']   \n",
        "- Use the `cloud_hosted` search parameter only to search for data assets available from NASA's Earthdata Cloud.\n",
        "- There are even more search parameters that can be passed to help refine our search, however those parameters do have to be populated in the CMR record to be leveraged. A non exhaustive list of examples are below:  \n",
        "    - `day_night_flag = 'day'`  \n",
        "    - `cloud_cover = (0, 10)`  "
      ],
      "id": "f77dcd53"
    },
    {
      "cell_type": "code",
      "metadata": {},
      "source": [
        "# col_ids = ['C2723754864-GES_DISC', 'C1646609808-NSIDC_ECS', 'C2531308461-NSIDC_ECS', 'C2537927247-NSIDC_ECS']    # Specify a list of collections to pass to the search\n",
        "\n",
        "# results = earthaccess.search_data(\n",
        "#     concept_id = col_ids,\n",
        "#     #cloud_hosted = True,\n",
        "#     temporal = date_range,\n",
        "#     bounding_box = bbox,\n",
        "# )"
      ],
      "id": "55edbfa8",
      "execution_count": null,
      "outputs": []
    },
    {
      "cell_type": "markdown",
      "metadata": {},
      "source": [
        "### Working with `earthaccess` returns  \n",
        "\n",
        "`earthaccess` provides several convenience methods to help streamline processes that historically have be painful when done using traditional methods. Following the search for data, you'll likely take one of two pathways with those results. You may choose to **download** the assets that have been returned to you or you may choose to continue working with the search results within the Python environment.  \n",
        "\n",
        "#### Download `earthaccess` results\n",
        "\n",
        "In some cases you may want to download your assets. `earthaccess` makes downloading the data from the search results very easy using the `earthaccess.download()` function."
      ],
      "id": "c226ef21"
    },
    {
      "cell_type": "code",
      "metadata": {},
      "source": [
        "downloaded_files = earthaccess.download(\n",
        "    results[0:9],\n",
        "    local_path='../../2023-Cloud-Workshop-AGU/data',\n",
        ")"
      ],
      "id": "3377d8c7",
      "execution_count": null,
      "outputs": []
    },
    {
      "cell_type": "markdown",
      "metadata": {},
      "source": [
        "`earthaccess` did a lot of heavy lifting for us. It identified the downloadable links, passed our Earthdata Login credentials, and save off the file with the proper name. Amazing right!?\n",
        "\n",
        "We're going to remove those files to keep our space clean."
      ],
      "id": "fd91e193"
    },
    {
      "cell_type": "code",
      "metadata": {},
      "source": [
        "!rm ../../2023-Cloud-Workshop-AGU/data/*.nc4"
      ],
      "id": "8bca5fdb",
      "execution_count": null,
      "outputs": []
    },
    {
      "cell_type": "markdown",
      "metadata": {},
      "source": [
        "#### Explore `earthaccess` search response"
      ],
      "id": "52a765f7"
    },
    {
      "cell_type": "code",
      "metadata": {},
      "source": [
        "print(f'The results variable is a {type(results)} of {type(results[0])}')"
      ],
      "id": "e0292363",
      "execution_count": null,
      "outputs": []
    },
    {
      "cell_type": "code",
      "metadata": {},
      "source": [
        "len(results)"
      ],
      "id": "8130b0b6",
      "execution_count": null,
      "outputs": []
    },
    {
      "cell_type": "markdown",
      "metadata": {},
      "source": [
        "We can explore the first item (`earthaccess.results.DataGranule`) in our list."
      ],
      "id": "13129f9d"
    },
    {
      "cell_type": "code",
      "metadata": {},
      "source": [
        "item = results[0]\n",
        "type(item)"
      ],
      "id": "7dea33d9",
      "execution_count": null,
      "outputs": []
    },
    {
      "cell_type": "markdown",
      "metadata": {},
      "source": [
        "Each item contains three keys that can be used to explore the item"
      ],
      "id": "94eb8ea3"
    },
    {
      "cell_type": "code",
      "metadata": {},
      "source": [
        "item.keys()"
      ],
      "id": "8095fb4a",
      "execution_count": null,
      "outputs": []
    },
    {
      "cell_type": "code",
      "metadata": {},
      "source": [
        "item['umm']"
      ],
      "id": "76200c74",
      "execution_count": null,
      "outputs": []
    },
    {
      "cell_type": "markdown",
      "metadata": {},
      "source": [
        "#### Get data URLs / S3 URIs\n",
        "\n",
        "Get links to data. The `data_links()` method is used to return the URL(s)/data link(s) for the item. By default the method returns the HTTPS URL to download or access the item."
      ],
      "id": "5cb442ed"
    },
    {
      "cell_type": "code",
      "metadata": {},
      "source": [
        "item.data_links()"
      ],
      "id": "d4d36d07",
      "execution_count": null,
      "outputs": []
    },
    {
      "cell_type": "markdown",
      "metadata": {},
      "source": [
        "The `data_links()` method can also be used to get the s3 URI when we want to perform direct s3 access of the data in the cloud. To get the s3 URI, pass `access = 'direct'` to the method."
      ],
      "id": "256ddb89"
    },
    {
      "cell_type": "code",
      "metadata": {},
      "source": [
        "item.data_links(access='direct')"
      ],
      "id": "d56690f7",
      "execution_count": null,
      "outputs": []
    },
    {
      "cell_type": "markdown",
      "metadata": {},
      "source": [
        "If we want to extract all of the data links from our search results and add or save them to a list, we can."
      ],
      "id": "8e57dbec"
    },
    {
      "cell_type": "code",
      "metadata": {},
      "source": [
        "data_link_list = []\n",
        "\n",
        "for granule in results:\n",
        "    for asset in granule.data_links(access='direct'):\n",
        "        data_link_list.append(asset)\n"
      ],
      "id": "04720573",
      "execution_count": null,
      "outputs": []
    },
    {
      "cell_type": "code",
      "metadata": {},
      "source": [
        "data_link_list[0:9]"
      ],
      "id": "983fb325",
      "execution_count": null,
      "outputs": []
    },
    {
      "cell_type": "markdown",
      "metadata": {},
      "source": [
        "We can pass or read these lists of data links into libraries like `xarray`, `rioxarray`, or `gdal`, but `earthaccess` has a built-in module for easily reading these data links in. \n",
        "\n",
        "#### Open results in `xarray`\n",
        "\n",
        "We use `earthaccess`'s `open()` method to make a connection to and open the files from our search result. "
      ],
      "id": "97747272"
    },
    {
      "cell_type": "code",
      "metadata": {},
      "source": [
        "fileset = earthaccess.open(results)"
      ],
      "id": "90956850",
      "execution_count": null,
      "outputs": []
    },
    {
      "cell_type": "markdown",
      "metadata": {},
      "source": [
        "Then we pass the `fileset` object to xarray."
      ],
      "id": "8bb4d082"
    },
    {
      "cell_type": "code",
      "metadata": {},
      "source": [
        "ds = xr.open_mfdataset(fileset, chunks = {})"
      ],
      "id": "fb66c454",
      "execution_count": null,
      "outputs": []
    },
    {
      "cell_type": "markdown",
      "metadata": {},
      "source": [
        "Some really cool things just happened here! Not only were we able to seamlessly stream our `earthaccess` search results into a `xarray` `dataset` using the `open_mfdataset()` (multi-file) method, but `earthaccess` determined that we were working from within AWS us-west-2 and accessed the data via direct S3 access! We didn't have to create a session or a filesystem to authenticate and connect to the data. `earthaccess` did this for us using the `auth` object we created at the beginning of this tutorial. If we were not working in AWS us-west-2, `earthaccess` would \"automagically\" switch to accessing the data via the HTTPS endpoints and would again handle the authentication for us.\n",
        "\n",
        "Let's take a quick lock at our `xarray` `dataset`"
      ],
      "id": "8f3f8b29"
    },
    {
      "cell_type": "code",
      "metadata": {},
      "source": [
        "ds"
      ],
      "id": "43f062ad",
      "execution_count": null,
      "outputs": []
    },
    {
      "cell_type": "markdown",
      "metadata": {},
      "source": [
        "---\n",
        "\n",
        "## Resources  \n",
        "\n",
        "- NASA’s [Common Metadata Repository (CMR) API](https://cmr.earthdata.nasa.gov/search/site/docs/search/api.html)   \n",
        "- [`earthaccess` repository](https://github.com/nsidc/earthaccess)\n",
        "- [`earthaccess` documentation](https://nsidc.github.io/earthaccess/)\n",
        "- [Earthdata Search](https://search.earthdata.nasa.gov/search)\n"
      ],
      "id": "78907847"
    }
  ],
  "metadata": {
    "kernelspec": {
      "name": "python3",
      "language": "python",
      "display_name": "Python 3 (ipykernel)"
    }
  },
  "nbformat": 4,
  "nbformat_minor": 5
}